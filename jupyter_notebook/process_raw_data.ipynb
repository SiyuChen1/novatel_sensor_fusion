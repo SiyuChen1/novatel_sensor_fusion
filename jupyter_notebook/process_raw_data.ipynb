{
 "cells": [
  {
   "cell_type": "code",
   "execution_count": 1,
   "metadata": {
    "collapsed": true,
    "ExecuteTime": {
     "end_time": "2023-08-04T13:15:08.688120731Z",
     "start_time": "2023-08-04T13:15:08.568556345Z"
    }
   },
   "outputs": [],
   "source": [
    "from novatel_sensor_fusion_py.ultilies.group_raw_data_by_timestamp import read_data_into_dataframe, parse_line"
   ]
  },
  {
   "cell_type": "code",
   "execution_count": 2,
   "outputs": [
    {
     "data": {
      "text/plain": "                                            raw_line\n0  [ICOM5]#BESTPOSA,ICOM5,0,64.0,FINESTEERING,226...\n1  #BESTVELA,ICOM5,0,64.0,FINESTEERING,2269,12975...\n2  %INSATTQSA,2269,129755.020;2269,129755.0200000...\n3  %CORRIMUSA,2269,129755.030;1,-0.00007311205678...\n4  %INSATTQSA,2269,129755.040;2269,129755.0400000...",
      "text/html": "<div>\n<style scoped>\n    .dataframe tbody tr th:only-of-type {\n        vertical-align: middle;\n    }\n\n    .dataframe tbody tr th {\n        vertical-align: top;\n    }\n\n    .dataframe thead th {\n        text-align: right;\n    }\n</style>\n<table border=\"1\" class=\"dataframe\">\n  <thead>\n    <tr style=\"text-align: right;\">\n      <th></th>\n      <th>raw_line</th>\n    </tr>\n  </thead>\n  <tbody>\n    <tr>\n      <th>0</th>\n      <td>[ICOM5]#BESTPOSA,ICOM5,0,64.0,FINESTEERING,226...</td>\n    </tr>\n    <tr>\n      <th>1</th>\n      <td>#BESTVELA,ICOM5,0,64.0,FINESTEERING,2269,12975...</td>\n    </tr>\n    <tr>\n      <th>2</th>\n      <td>%INSATTQSA,2269,129755.020;2269,129755.0200000...</td>\n    </tr>\n    <tr>\n      <th>3</th>\n      <td>%CORRIMUSA,2269,129755.030;1,-0.00007311205678...</td>\n    </tr>\n    <tr>\n      <th>4</th>\n      <td>%INSATTQSA,2269,129755.040;2269,129755.0400000...</td>\n    </tr>\n  </tbody>\n</table>\n</div>"
     },
     "execution_count": 2,
     "metadata": {},
     "output_type": "execute_result"
    }
   ],
   "source": [
    "file_path = 'data/small_raw_imu_data.txt'\n",
    "# Reading the data into a DataFrame\n",
    "imu_data_df = read_data_into_dataframe(file_path)\n",
    "\n",
    "# Displaying the first few rows of the DataFrame\n",
    "imu_data_df.head()"
   ],
   "metadata": {
    "collapsed": false,
    "ExecuteTime": {
     "end_time": "2023-08-04T13:15:08.694296703Z",
     "start_time": "2023-08-04T13:15:08.692597570Z"
    }
   }
  },
  {
   "cell_type": "code",
   "execution_count": 3,
   "outputs": [
    {
     "data": {
      "text/plain": "{'2269,129755.000':   command_type                                           raw_line\n 0     BESTPOSA  [ICOM5]#BESTPOSA,ICOM5,0,64.0,FINESTEERING,226...\n 1     BESTVELA  #BESTVELA,ICOM5,0,64.0,FINESTEERING,2269,12975...,\n '2269,129755.020':   command_type                                           raw_line\n 2    INSATTQSA  %INSATTQSA,2269,129755.020;2269,129755.0200000...,\n '2269,129755.030':   command_type                                           raw_line\n 3    CORRIMUSA  %CORRIMUSA,2269,129755.030;1,-0.00007311205678...,\n '2269,129755.040':   command_type                                           raw_line\n 4    INSATTQSA  %INSATTQSA,2269,129755.040;2269,129755.0400000...\n 5    CORRIMUSA  %CORRIMUSA,2269,129755.040;1,-0.00007748337106...,\n '2269,129755.050':   command_type                                           raw_line\n 6    INSATTQSA  %INSATTQSA,2269,129755.050;2269,129755.0500000...\n 7    CORRIMUSA  %CORRIMUSA,2269,129755.050;1,-0.00006379853152...}"
     },
     "execution_count": 3,
     "metadata": {},
     "output_type": "execute_result"
    }
   ],
   "source": [
    "# Applying the parse_line function to the DataFrame\n",
    "parsed_data_df = imu_data_df.apply(parse_line, axis=1).dropna()\n",
    "\n",
    "# Grouping the data by GPS time\n",
    "grouped_data_df = parsed_data_df.groupby('gps_time')\n",
    "\n",
    "# Displaying the first few groups\n",
    "sample_grouped_data_df = {gps_time: group[['command_type', 'raw_line']]\n",
    "                          for gps_time, group in list(grouped_data_df)[0:5]}\n",
    "sample_grouped_data_df"
   ],
   "metadata": {
    "collapsed": false,
    "ExecuteTime": {
     "end_time": "2023-08-04T13:15:08.713458657Z",
     "start_time": "2023-08-04T13:15:08.695110877Z"
    }
   }
  }
 ],
 "metadata": {
  "kernelspec": {
   "display_name": "Python 3",
   "language": "python",
   "name": "python3"
  },
  "language_info": {
   "codemirror_mode": {
    "name": "ipython",
    "version": 2
   },
   "file_extension": ".py",
   "mimetype": "text/x-python",
   "name": "python",
   "nbconvert_exporter": "python",
   "pygments_lexer": "ipython2",
   "version": "2.7.6"
  }
 },
 "nbformat": 4,
 "nbformat_minor": 0
}
